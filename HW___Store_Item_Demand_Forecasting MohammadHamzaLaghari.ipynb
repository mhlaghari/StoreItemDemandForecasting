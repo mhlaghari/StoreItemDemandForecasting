{
  "cells": [
    {
      "cell_type": "markdown",
      "source": [
        "Mohammad Hamza Laghari"
      ],
      "metadata": {
        "id": "Ju2e3wamS2Cf"
      }
    },
    {
      "cell_type": "markdown",
      "metadata": {
        "id": "IWXZOvWl0bac"
      },
      "source": [
        "**Problem Statement:**\n",
        "XYZ is an Omni-channel retailer selling 50 different products across 10 different stores. They have sales data for all these stores & products for 5 years spanning from 2013 to 2017. XYZ is interested in forecasting sales for the next 6 months at an overall level to better improve financial planning and inventory management. XYZ has developed a vanilla ARIMA model to predict 6 months of overall sales. However they are interested in knowing if a LSTM network could be developed which can produce more accurate forecasts. For this purpose they have provided the data and the basic ARIMA model. Develop a LSTM model to forecast 6 months of overall sales and compare its performance with the ARIMA model."
      ]
    },
    {
      "cell_type": "markdown",
      "metadata": {
        "id": "zeBeTxbd0wDK"
      },
      "source": [
        "Installing necessary packages to connect to google drive"
      ]
    },
    {
      "cell_type": "code",
      "execution_count": 1,
      "metadata": {
        "id": "jWmDNZDm0QWs",
        "colab": {
          "base_uri": "https://localhost:8080/"
        },
        "outputId": "a5b7a319-6686-4d11-ce12-a4b6229f6b05"
      },
      "outputs": [
        {
          "output_type": "stream",
          "name": "stderr",
          "text": [
            "Installing package into ‘/usr/local/lib/R/site-library’\n",
            "(as ‘lib’ is unspecified)\n",
            "\n",
            "Installing package into ‘/usr/local/lib/R/site-library’\n",
            "(as ‘lib’ is unspecified)\n",
            "\n",
            "also installing the dependencies ‘promises’, ‘later’\n",
            "\n",
            "\n"
          ]
        }
      ],
      "source": [
        "install.packages('googledrive') \n",
        "install.packages('httpuv') \n",
        "library(googledrive) \n",
        "library(httpuv)"
      ]
    },
    {
      "cell_type": "code",
      "execution_count": 2,
      "metadata": {
        "id": "uFVRkfDm0ywx",
        "colab": {
          "base_uri": "https://localhost:8080/"
        },
        "outputId": "36b51887-d375-464f-afbe-664450495a0f"
      },
      "outputs": [
        {
          "output_type": "stream",
          "name": "stderr",
          "text": [
            "Installing package into ‘/usr/local/lib/R/site-library’\n",
            "(as ‘lib’ is unspecified)\n",
            "\n",
            "also installing the dependencies ‘R.oo’, ‘R.methodsS3’\n",
            "\n",
            "\n",
            "Loading required package: R.oo\n",
            "\n",
            "Loading required package: R.methodsS3\n",
            "\n",
            "R.methodsS3 v1.8.1 (2020-08-26 16:20:06 UTC) successfully loaded. See ?R.methodsS3 for help.\n",
            "\n",
            "R.oo v1.24.0 (2020-08-26 16:11:58 UTC) successfully loaded. See ?R.oo for help.\n",
            "\n",
            "\n",
            "Attaching package: ‘R.oo’\n",
            "\n",
            "\n",
            "The following object is masked from ‘package:R.methodsS3’:\n",
            "\n",
            "    throw\n",
            "\n",
            "\n",
            "The following objects are masked from ‘package:methods’:\n",
            "\n",
            "    getClasses, getMethods\n",
            "\n",
            "\n",
            "The following objects are masked from ‘package:base’:\n",
            "\n",
            "    attach, detach, load, save\n",
            "\n",
            "\n",
            "R.utils v2.11.0 (2021-09-26 08:30:02 UTC) successfully loaded. See ?R.utils for help.\n",
            "\n",
            "\n",
            "Attaching package: ‘R.utils’\n",
            "\n",
            "\n",
            "The following object is masked from ‘package:utils’:\n",
            "\n",
            "    timestamp\n",
            "\n",
            "\n",
            "The following objects are masked from ‘package:base’:\n",
            "\n",
            "    cat, commandArgs, getOption, inherits, isOpen, nullfile, parse,\n",
            "    warnings\n",
            "\n",
            "\n"
          ]
        }
      ],
      "source": [
        "if (file.exists(\"/usr/local/lib/python3.7/dist-packages/google/colab/_ipython.py\")) { #may update python version  \n",
        "                                       #occasionally\n",
        "  install.packages(\"R.utils\")\n",
        "  library(\"R.utils\")\n",
        "  library(\"httr\")\n",
        "  my_check <- function() {return(TRUE)}\n",
        "  reassignInPackage(\"is_interactive\", pkgName = \"httr\", my_check) \n",
        "  options(rlang_interactive=TRUE)\n",
        "}"
      ]
    },
    {
      "cell_type": "markdown",
      "metadata": {
        "id": "40nP1bm801Ra"
      },
      "source": [
        "We need to authenticate a connection to the course google drive that contains the data once.\n",
        "\n",
        "After running the below script:\n",
        "\n",
        "1) Click on the link that appears at the bottom   \n",
        "2) Select the google account associated with this Colab session (The account displayed in colab at the top right!)   \n",
        "3) Check all tickboxes to give R permission to download images from the drive    \n",
        "4) Copy the code displayed & paste it here at the field shown & press enter"
      ]
    },
    {
      "cell_type": "code",
      "execution_count": 3,
      "metadata": {
        "id": "FqvxyZC3011R",
        "colab": {
          "base_uri": "https://localhost:8080/"
        },
        "outputId": "fa4aad22-cf58-4837-a3b0-b2d9e38aa3b9"
      },
      "outputs": [
        {
          "output_type": "stream",
          "name": "stderr",
          "text": [
            "Please point your browser to the following url: \n",
            "\n",
            "https://accounts.google.com/o/oauth2/auth?client_id=603366585132-dpeg5tt0et3go5of2374d83ifevk5086.apps.googleusercontent.com&scope=https%3A%2F%2Fwww.googleapis.com%2Fauth%2Fdrive%20https%3A%2F%2Fwww.googleapis.com%2Fauth%2Fuserinfo.email&redirect_uri=urn%3Aietf%3Awg%3Aoauth%3A2.0%3Aoob&response_type=code\n",
            "\n"
          ]
        },
        {
          "name": "stdout",
          "output_type": "stream",
          "text": [
            "Enter authorization code: 4/1AX4XfWj4I_0YXwfqO4WA8Hj_GHIDnotwbLAVc9xsK5SGMt1ZeSoNpwuXSzM\n"
          ]
        }
      ],
      "source": [
        "drive_auth(use_oob = TRUE, cache = TRUE)"
      ]
    },
    {
      "cell_type": "markdown",
      "metadata": {
        "id": "SDsaKpvK06B6"
      },
      "source": [
        "Downloading the Store data from drive to Colab local & reading it into memory"
      ]
    },
    {
      "cell_type": "code",
      "execution_count": 4,
      "metadata": {
        "id": "dcuQmZgH07as",
        "colab": {
          "base_uri": "https://localhost:8080/",
          "height": 276
        },
        "outputId": "e24767fd-cdda-41ae-e5e1-01e9bf14c2ea"
      },
      "outputs": [
        {
          "output_type": "error",
          "ename": "ERROR",
          "evalue": "ignored",
          "traceback": [
            "\u001b[1m\u001b[33mError\u001b[39m in \u001b[1m\u001b[1m`as_parent()`:\u001b[22m\n\u001b[1m\u001b[22m\u001b[33m!\u001b[39m Parent specified via `path` is invalid:\n\u001b[31m✖\u001b[39m Does not exist.\nTraceback:\n",
            "1. drive_ls(\"~/AI_Datasets/\", recursive = T, pattern = \"Store\", \n .     type = \"csv\")",
            "2. as_parent(path)",
            "3. drive_abort(c(invalid_parent, x = \"Does not exist.\"))",
            "4. cli::cli_abort(message = message, ..., .envir = .envir)",
            "5. rlang::abort(message, ..., call = call, use_cli_format = TRUE)",
            "6. signal_abort(cnd, .file)"
          ]
        }
      ],
      "source": [
        "#file_id <- drive_ls(\"~/AI_Datasets/\",recursive = T,pattern = \"Store\",type = \"csv\")\n",
        "#x <- drive_get(as_id(file_id))\n",
        "#drive_download(x)"
      ]
    },
    {
      "cell_type": "markdown",
      "metadata": {
        "id": "ZOYKweRr1GOz"
      },
      "source": [
        "Installing necessary packages"
      ]
    },
    {
      "cell_type": "code",
      "execution_count": 1,
      "metadata": {
        "id": "dBYmofjf1H-X",
        "colab": {
          "base_uri": "https://localhost:8080/"
        },
        "outputId": "6a6c5f6b-11e4-4d26-97bc-07f000ec5108"
      },
      "outputs": [
        {
          "output_type": "stream",
          "name": "stderr",
          "text": [
            "Installing package into ‘/usr/local/lib/R/site-library’\n",
            "(as ‘lib’ is unspecified)\n",
            "\n",
            "also installing the dependencies ‘xts’, ‘TTR’, ‘quadprog’, ‘quantmod’, ‘fracdiff’, ‘lmtest’, ‘timeDate’, ‘tseries’, ‘urca’, ‘zoo’, ‘RcppArmadillo’\n",
            "\n",
            "\n",
            "Installing package into ‘/usr/local/lib/R/site-library’\n",
            "(as ‘lib’ is unspecified)\n",
            "\n",
            "Installing package into ‘/usr/local/lib/R/site-library’\n",
            "(as ‘lib’ is unspecified)\n",
            "\n",
            "Installing package into ‘/usr/local/lib/R/site-library’\n",
            "(as ‘lib’ is unspecified)\n",
            "\n",
            "also installing the dependencies ‘RcppTOML’, ‘here’, ‘png’, ‘config’, ‘tfautograph’, ‘reticulate’, ‘tensorflow’, ‘tfruns’, ‘zeallot’\n",
            "\n",
            "\n",
            "Registered S3 method overwritten by 'quantmod':\n",
            "  method            from\n",
            "  as.zoo.data.frame zoo \n",
            "\n",
            "\n",
            "Attaching package: ‘Metrics’\n",
            "\n",
            "\n",
            "The following object is masked from ‘package:forecast’:\n",
            "\n",
            "    accuracy\n",
            "\n",
            "\n",
            "Warning message in system(\"timedatectl\", intern = TRUE):\n",
            "“running command 'timedatectl' had status 1”\n",
            "\n",
            "Attaching package: ‘lubridate’\n",
            "\n",
            "\n",
            "The following objects are masked from ‘package:base’:\n",
            "\n",
            "    date, intersect, setdiff, union\n",
            "\n",
            "\n",
            "\n",
            "Attaching package: ‘dplyr’\n",
            "\n",
            "\n",
            "The following objects are masked from ‘package:stats’:\n",
            "\n",
            "    filter, lag\n",
            "\n",
            "\n",
            "The following objects are masked from ‘package:base’:\n",
            "\n",
            "    intersect, setdiff, setequal, union\n",
            "\n",
            "\n"
          ]
        }
      ],
      "source": [
        "install.packages('forecast')\n",
        "install.packages('Metrics')\n",
        "install.packages('lubridate')\n",
        "install.packages('keras')\n",
        "library(forecast)\n",
        "library(Metrics)\n",
        "library(lubridate)\n",
        "library(dplyr)\n",
        "library(keras)\n",
        "library(magrittr)"
      ]
    },
    {
      "cell_type": "code",
      "execution_count": 2,
      "metadata": {
        "id": "kofO1hEz096o"
      },
      "outputs": [],
      "source": [
        "df <- read.csv('/content/Store_data.csv')"
      ]
    },
    {
      "cell_type": "markdown",
      "metadata": {
        "id": "QsTyE8jU1bR0"
      },
      "source": [
        "Since we need to forecast sales at an overall level, we first need to aggregate the data from Store, Product, Daily level to Daily level"
      ]
    },
    {
      "cell_type": "code",
      "execution_count": 3,
      "metadata": {
        "id": "qtFLR99P1b0t"
      },
      "outputs": [],
      "source": [
        "##Aggregate the data to 'date' level & cast the date column to the 'date' datatype in R. \n",
        "##Dataset should only have 'date' and 'sales' columns.\n",
        "drop <- c('store','item')\n",
        "df2 <- df[,!(names(df) %in% drop)]\n",
        "df3 <- aggregate(x = df2[c(\"sales\")],\n",
        "                     FUN = sum,\n",
        "                     by = list(date = df2$date))"
      ]
    },
    {
      "cell_type": "code",
      "source": [
        "df3 %<>% mutate(df3, date= as.Date(date, format= \"%Y-%m-%d\"))"
      ],
      "metadata": {
        "id": "478NI1zyJG19"
      },
      "execution_count": 4,
      "outputs": []
    },
    {
      "cell_type": "markdown",
      "metadata": {
        "id": "4Gp4IXPU2M_O"
      },
      "source": [
        "We need to split the data into Training and Testing subsets, to test final performance of our models. Since we mean to predict 6 months of sales, our test data will have 6 months of sales. We filter out last 6 months of sales in 2017 as test data."
      ]
    },
    {
      "cell_type": "code",
      "execution_count": 5,
      "metadata": {
        "id": "n7Vc5ANF4CcE"
      },
      "outputs": [],
      "source": [
        "##Split the data into Train and Test based on the condition: Train if date < \"2017-07-01\" & \n",
        "##Test if date >= \"2017-07-01\"\n",
        "\n",
        "train<- df3[df3$date < \"2017-07-01\", ]\n",
        "test <- df3[df3$date >= \"2017-07-01\", ]"
      ]
    },
    {
      "cell_type": "markdown",
      "metadata": {
        "id": "-CPBNR0-5Ga9"
      },
      "source": [
        "The basic ARIMA model is built on the sales data in Training dataset. This will be our benchmark to improve."
      ]
    },
    {
      "cell_type": "code",
      "execution_count": 6,
      "metadata": {
        "id": "Y2hjcKVn5Zha",
        "colab": {
          "base_uri": "https://localhost:8080/",
          "height": 303
        },
        "outputId": "971d79d4-25df-48a8-d41f-f5c2be687135"
      },
      "outputs": [
        {
          "output_type": "display_data",
          "data": {
            "text/plain": [
              "Series: train1 \n",
              "ARIMA(5,1,1) \n",
              "\n",
              "Coefficients:\n",
              "          ar1      ar2      ar3      ar4      ar5      ma1\n",
              "      -0.2858  -0.2987  -0.4099  -0.4630  -0.3887  -0.5977\n",
              "s.e.   0.0262   0.0221   0.0202   0.0218   0.0243   0.0177\n",
              "\n",
              "sigma^2 = 9031534:  log likelihood = -15468.4\n",
              "AIC=30950.8   AICc=30950.87   BIC=30988.62\n",
              "\n",
              "Training set error measures:\n",
              "                   ME     RMSE      MAE        MPE     MAPE      MASE\n",
              "Training set 89.10619 2998.838 1961.687 -0.9474152 8.047087 0.6605508\n",
              "                   ACF1\n",
              "Training set -0.1929871"
            ]
          },
          "metadata": {}
        }
      ],
      "source": [
        "##remove the \"Month\" column from Train data as it is not needed for the ARIMA model\n",
        "train1 <- train[2]\n",
        "test1 <- test[2]\n",
        "#convert test 1 to vector\n",
        "test1 <- test1[,1]\n",
        "\n",
        "##training model\n",
        "model = auto.arima(train1)\n",
        "\n",
        "# model summary\n",
        "summary(model)"
      ]
    },
    {
      "cell_type": "markdown",
      "metadata": {
        "id": "0G0pc7x-Cs3a"
      },
      "source": [
        "Forecasting 6 months of sales from our ARIMA model."
      ]
    },
    {
      "cell_type": "code",
      "execution_count": 7,
      "metadata": {
        "id": "lMK0h32hCvLo"
      },
      "outputs": [],
      "source": [
        "# forecasting\n",
        "forecast = predict(model, length(test1))"
      ]
    },
    {
      "cell_type": "code",
      "source": [
        "length(test1)"
      ],
      "metadata": {
        "colab": {
          "base_uri": "https://localhost:8080/",
          "height": 34
        },
        "id": "_bCnzzf5KG06",
        "outputId": "10d76bce-f189-4547-bae6-246a408486ef"
      },
      "execution_count": 8,
      "outputs": [
        {
          "output_type": "display_data",
          "data": {
            "text/html": [
              "184"
            ],
            "text/markdown": "184",
            "text/latex": "184",
            "text/plain": [
              "[1] 184"
            ]
          },
          "metadata": {}
        }
      ]
    },
    {
      "cell_type": "markdown",
      "metadata": {
        "id": "1UB9el5YETIs"
      },
      "source": [
        "Evaluating ARIMA forecast with actual sales in Test data through RMSE measure."
      ]
    },
    {
      "cell_type": "code",
      "execution_count": 9,
      "metadata": {
        "id": "JCquZRKQETqo",
        "colab": {
          "base_uri": "https://localhost:8080/",
          "height": 34
        },
        "outputId": "a42fd436-6b48-4014-f832-51aba6bef1c5"
      },
      "outputs": [
        {
          "output_type": "display_data",
          "data": {
            "text/html": [
              "7493.72339667097"
            ],
            "text/markdown": "7493.72339667097",
            "text/latex": "7493.72339667097",
            "text/plain": [
              "[1] 7493.723"
            ]
          },
          "metadata": {}
        }
      ],
      "source": [
        "# Calculate RMSE of actual sales in Test data & Forecasted sales\n",
        "rmse(actual = test1, predicted = forecast$pred)"
      ]
    },
    {
      "cell_type": "markdown",
      "metadata": {
        "id": "UTfFlHyUFBJE"
      },
      "source": [
        "Redefine the training and test data with the same filter as before, inorder to build a LSTM model. We need to redefine again as we need the date column that was previous removed."
      ]
    },
    {
      "cell_type": "code",
      "execution_count": 10,
      "metadata": {
        "id": "oys6BZ_DFrBJ"
      },
      "outputs": [],
      "source": [
        "#Train data is data where date < \"2017-07-01\"\n",
        "#Test data is data where date >= \"2017-07-01\"\n",
        "\n",
        "train2 <-train\n",
        "test2 <- test"
      ]
    },
    {
      "cell_type": "markdown",
      "metadata": {
        "id": "LniVopGEF2n8"
      },
      "source": [
        "LSTM requires the sales variable to be Standardized. Inorder to standardize we subtract the mean sales in Training data from actual sales and then divide by the Standard Deviation of sales in Training data. This is done for both Training and Test datasets"
      ]
    },
    {
      "cell_type": "code",
      "execution_count": 11,
      "metadata": {
        "id": "88kUh8pJGK3I"
      },
      "outputs": [],
      "source": [
        "scale_factors <- c(mean(train2$sales), sd(train2$sales))\n",
        "\n",
        "#Assuming that the Train dataset is named as \"train\" with columns \"sales\" & \"date\", we scale our sales values as\n",
        "scaled_train <- train %>%\n",
        "  dplyr::select(sales) %>%\n",
        "  dplyr::mutate(sales = (sales - scale_factors[1]) / scale_factors[2])\n",
        "\n",
        "#LSTM model requires a dataset which has scaled sales values for 6 months before start of Test data inorder to forecast sales for the Test data period(>= \"2017-07-01\")\n",
        "scaled_valid <- train[train$date >= as.Date(\"2017-07-01\") - 184,] %>%\n",
        "  dplyr::select(sales) %>%\n",
        "  dplyr::mutate(sales = (sales - scale_factors[1]) / scale_factors[2])"
      ]
    },
    {
      "cell_type": "markdown",
      "metadata": {
        "id": "sSySS9PEIvEB"
      },
      "source": [
        "LSTM algorithm creates predictions based on the *lagged* values. That means that it needs to look back to as many previous values as many points we wish to predict. As we want to do a 6 months forecast, we need to base each prediction on 6 months worth of data points. This is the number of data points for our filter of Test data. So we lag Training values by the number of rows in our Test data.\n",
        "\n",
        "For example, hypothetically let’s say our series has 10 data points [1, 2, 3, …, 10] and we want to predict 3 values. Then our training data looks like this:\n",
        "\n",
        "[1, 2, 3] -> [4, 5, 6]    \n",
        "[2, 3, 4] -> [5, 6, 7]   \n",
        "[3, 4, 5] -> [6, 7, 8]   \n",
        "[4, 5, 6] -> [7, 8, 9]   \n",
        "[5, 6, 7] -> [8, 9, 10]\n",
        "\n",
        "Predictors and target take form of:   \n",
        "X =  \n",
        "3 4 5 6 7                  \n",
        "2 3 4 5 6   \n",
        "1 2 3 4 5 \n",
        "   \n",
        "Y =   \n",
        "6 7 8 9 10   \n",
        "5 6 7 8 9   \n",
        "4 5 6 7 8\n",
        "\n",
        "Additionally keras LSTM expects specific tensor format of shape of a 3D array of the form [samples, timesteps, features] for predictors (X) and for target (Y) values:\n",
        "\n",
        "*samples* specifies the number of observations which will be processed in batches.\n",
        "*timesteps* tells us the number of time steps (lags). Or in other words how many units back in time we want our network to see.\n",
        "*features* specifies number of predictors (1 for univariate series and n for multivariate).\n",
        "\n",
        "In case of predictors that translates to an array of dimensions: (nrow(Train data) – lag – prediction + 1, nrow(Test data), 1), where lag = prediction = nrow(Test data)."
      ]
    },
    {
      "cell_type": "code",
      "execution_count": 12,
      "metadata": {
        "id": "2LP6Lz9DIxgX"
      },
      "outputs": [],
      "source": [
        "prediction <- nrow(scaled_valid)\n",
        "lag <- prediction"
      ]
    },
    {
      "cell_type": "markdown",
      "metadata": {
        "id": "U-3x6iMRIzjp"
      },
      "source": [
        "We lag the data nrow(scaled_valid) - 1 times, so that each prediction is based on 6 months of sales values, and arrange lagged values into columns. Then we transform it into the desired 3D form."
      ]
    },
    {
      "cell_type": "code",
      "execution_count": 13,
      "metadata": {
        "id": "nD3XDusEI2vA"
      },
      "outputs": [],
      "source": [
        "scaled_train <- as.matrix(scaled_train)\n",
        "\n",
        "# we lag the data 183 times and arrange that into columns\n",
        "x_train_data <- t(sapply(1:(length(scaled_train) - lag - prediction + 1),\n",
        "                         function(x)\n",
        "                           scaled_train[x:(x + lag - 1), 1]))\n",
        "\n",
        "# now we transform it into 3D form\n",
        "x_train_arr <- array(data = as.numeric(unlist(x_train_data)),\n",
        "                     dim = c(nrow(x_train_data),\n",
        "                             lag,\n",
        "                             1))"
      ]
    },
    {
      "cell_type": "markdown",
      "metadata": {
        "id": "iYZ5N2SfI4t-"
      },
      "source": [
        "Now we apply similar transformation for the Y values."
      ]
    },
    {
      "cell_type": "code",
      "execution_count": 14,
      "metadata": {
        "id": "EduXNqOiI5Cu"
      },
      "outputs": [],
      "source": [
        "y_train_data <- t(sapply((1 + lag):(length(scaled_train) - prediction + 1),\n",
        "                         function(x)\n",
        "                           scaled_train[x:(x + prediction - 1)]))\n",
        "\n",
        "y_train_arr <- array(data = as.numeric(unlist(y_train_data)),\n",
        "                     dim = c(nrow(y_train_data),\n",
        "                             prediction,\n",
        "                             1))"
      ]
    },
    {
      "cell_type": "markdown",
      "metadata": {
        "id": "QNSavImYI93M"
      },
      "source": [
        "In the same manner we need to prepare data for the prediction, which are in fact last 184 (6 months data) observations from our training set."
      ]
    },
    {
      "cell_type": "code",
      "execution_count": 15,
      "metadata": {
        "id": "pDmZrS9DJHUH"
      },
      "outputs": [],
      "source": [
        "x_test_scaled <- scaled_valid$sales\n",
        "x_pred_arr <- array(data = x_test_scaled,\n",
        "                    dim = c(1,\n",
        "                            lag,\n",
        "                            1))"
      ]
    },
    {
      "cell_type": "markdown",
      "metadata": {
        "id": "NX2zkMvQJRyD"
      },
      "source": [
        "We can build a LSTM model using the keras_model_sequential function and adding layers on top of that. The first LSTM layer takes the required input shape, which is the [samples, timesteps, features]. We set for both layers return_sequences = TRUE and stateful = TRUE. The second layer is the same with the exception of batch_input_shape, which only needs to be specified in the first layer."
      ]
    },
    {
      "cell_type": "code",
      "execution_count": 16,
      "metadata": {
        "id": "WywTPgPMJSR3",
        "colab": {
          "base_uri": "https://localhost:8080/"
        },
        "outputId": "0d64fb0a-b3ae-461a-fb11-74f0b7c4b582"
      },
      "outputs": [
        {
          "output_type": "stream",
          "name": "stderr",
          "text": [
            "Loaded Tensorflow version 2.8.0\n",
            "\n"
          ]
        }
      ],
      "source": [
        "lstm_model <- keras_model_sequential()\n",
        "\n",
        "lstm_model %>%\n",
        "##Define first LSTM layer with units as 50, batch_input_shape as c(1, 184, 1) ,return_sequences = TRUE and stateful = TRUE\n",
        "  layer_lstm(units = 32, return_sequences = TRUE, stateful = TRUE,\n",
        "             batch_input_shape = c(1,184,1)) %>%\n",
        "  # fraction of the units to drop for the linear transformation of the inputs\n",
        "  layer_dropout(rate = 0.5) %>%\n",
        "  ##Define second LSTM layer with units as 50, return_sequences = TRUE and stateful = TRUE\n",
        "  layer_lstm(units = 50, return_sequences = TRUE, stateful = TRUE)  %>%\n",
        "  layer_dropout(rate = 0.5) %>%\n",
        "  time_distributed(keras::layer_dense(units = 1))"
      ]
    },
    {
      "cell_type": "markdown",
      "metadata": {
        "id": "86T1NToAJgUL"
      },
      "source": [
        "Also choose loss function for the optimization, type of optimizer and metric for assessing the model performance"
      ]
    },
    {
      "cell_type": "code",
      "execution_count": 17,
      "metadata": {
        "id": "TEWE1bCeJg_c"
      },
      "outputs": [],
      "source": [
        "#Define 'mae' as loss function, 'adam' as optimizer & 'accuracy' as metrics for the LSTM model defined previously\n",
        "\n",
        "lstm_model %>% compile(\n",
        "  optimizer = \"adam\", \n",
        "  loss = \"mae\", \n",
        "  metrics = c(\"acc\")\n",
        ")"
      ]
    },
    {
      "cell_type": "code",
      "execution_count": 18,
      "metadata": {
        "id": "ZAGuqK9SK95_",
        "colab": {
          "base_uri": "https://localhost:8080/"
        },
        "outputId": "bbd9fbaf-acf1-4f1a-bbe8-ff22abcef9e7"
      },
      "outputs": [
        {
          "output_type": "stream",
          "name": "stdout",
          "text": [
            "Model: \"sequential\"\n",
            "________________________________________________________________________________\n",
            " Layer (type)                       Output Shape                    Param #     \n",
            "================================================================================\n",
            " lstm_1 (LSTM)                      (1, 184, 32)                    4352        \n",
            "                                                                                \n",
            " dropout_1 (Dropout)                (1, 184, 32)                    0           \n",
            "                                                                                \n",
            " lstm (LSTM)                        (1, 184, 50)                    16600       \n",
            "                                                                                \n",
            " dropout (Dropout)                  (1, 184, 50)                    0           \n",
            "                                                                                \n",
            " time_distributed (TimeDistributed)  (1, 184, 1)                    51          \n",
            "                                                                                \n",
            "================================================================================\n",
            "Total params: 21,003\n",
            "Trainable params: 21,003\n",
            "Non-trainable params: 0\n",
            "________________________________________________________________________________\n"
          ]
        }
      ],
      "source": [
        "summary(lstm_model)"
      ]
    },
    {
      "cell_type": "markdown",
      "metadata": {
        "id": "bFrbH0DeLAOk"
      },
      "source": [
        "Next, we can fit our stateful LSTM. We set shuffle = FALSE to preserve sequences of time series."
      ]
    },
    {
      "cell_type": "code",
      "execution_count": 19,
      "metadata": {
        "id": "Q21Io337LAmJ",
        "colab": {
          "base_uri": "https://localhost:8080/",
          "height": 472
        },
        "outputId": "8546347d-7854-48e3-8e5d-2c1002e8af92"
      },
      "outputs": [
        {
          "output_type": "stream",
          "name": "stderr",
          "text": [
            "`geom_smooth()` using formula 'y ~ x'\n",
            "\n"
          ]
        },
        {
          "output_type": "display_data",
          "data": {
            "text/plain": [
              "plot without title"
            ],
            "image/png": "[encoded data removed]"
          },
          "metadata": {
            "image/png": {
              "width": 420,
              "height": 420
            }
          }
        }
      ],
      "source": [
        "history <- lstm_model %>% fit(\n",
        "  x = x_train_arr,\n",
        "  y = y_train_arr,\n",
        "  batch_size = 1,\n",
        "  epochs = 20,\n",
        "  verbose = 1,\n",
        "  shuffle = FALSE\n",
        ")\n",
        "\n",
        "plot(history)"
      ]
    },
    {
      "cell_type": "markdown",
      "metadata": {
        "id": "nsP6EQ0zLLWE"
      },
      "source": [
        "And perform the prediction:"
      ]
    },
    {
      "cell_type": "code",
      "execution_count": 20,
      "metadata": {
        "id": "So1sEQiwLNew"
      },
      "outputs": [],
      "source": [
        "lstm_forecast <- lstm_model %>%\n",
        "  predict(x_pred_arr, batch_size = 1) %>%\n",
        "  .[, , 1]\n",
        "\n",
        "# we need to rescale the data to restore the original values\n",
        "lstm_forecast <- lstm_forecast * scale_factors[2] + scale_factors[1]"
      ]
    },
    {
      "cell_type": "markdown",
      "metadata": {
        "id": "Fw3YQyv4LXeN"
      },
      "source": [
        "Finally we check RMSE of the LSTM model and compare difference to ARIMA model"
      ]
    },
    {
      "cell_type": "code",
      "execution_count": 21,
      "metadata": {
        "id": "UNFpw1waLYDk",
        "colab": {
          "base_uri": "https://localhost:8080/",
          "height": 34
        },
        "outputId": "ebbb0a31-b9ff-4963-88e7-6757ef022332"
      },
      "outputs": [
        {
          "output_type": "display_data",
          "data": {
            "text/html": [
              "3548.22270513092"
            ],
            "text/markdown": "3548.22270513092",
            "text/latex": "3548.22270513092",
            "text/plain": [
              "[1] 3548.223"
            ]
          },
          "metadata": {}
        }
      ],
      "source": [
        "# evaluation\n",
        "rmse(actual = test2[,2], predicted = lstm_forecast)"
      ]
    }
  ],
  "metadata": {
    "colab": {
      "collapsed_sections": [],
      "name": "HW___Store_Item_Demand_Forecasting.ipynb",
      "provenance": []
    },
    "kernelspec": {
      "display_name": "R",
      "language": "R",
      "name": "ir"
    },
    "language_info": {
      "codemirror_mode": "r",
      "file_extension": ".r",
      "mimetype": "text/x-r-source",
      "name": "R",
      "pygments_lexer": "r",
      "version": "4.1.1"
    }
  },
  "nbformat": 4,
  "nbformat_minor": 0
}